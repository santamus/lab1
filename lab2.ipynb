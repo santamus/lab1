{
  "nbformat": 4,
  "nbformat_minor": 0,
  "metadata": {
    "colab": {
      "name": "Untitled1.ipynb",
      "provenance": [],
      "collapsed_sections": [],
      "authorship_tag": "ABX9TyPAUTWl0qKDWORkVY9OimH0",
      "include_colab_link": true
    },
    "kernelspec": {
      "name": "python3",
      "display_name": "Python 3"
    },
    "language_info": {
      "name": "python"
    }
  },
  "cells": [
    {
      "cell_type": "markdown",
      "metadata": {
        "id": "view-in-github",
        "colab_type": "text"
      },
      "source": [
        "<a href=\"https://colab.research.google.com/github/santamus/lab1/blob/main/lab2.ipynb\" target=\"_parent\"><img src=\"https://colab.research.google.com/assets/colab-badge.svg\" alt=\"Open In Colab\"/></a>"
      ]
    },
    {
      "cell_type": "markdown",
      "metadata": {
        "id": "pFAOWs08aEDV"
      },
      "source": [
        "# Новый раздел"
      ]
    },
    {
      "cell_type": "code",
      "metadata": {
        "id": "xbCXDbanaA_m"
      },
      "source": [
        "import numpy as np\n",
        "import pandas as pd\n",
        "import matplotlib.pyplot as plt"
      ],
      "execution_count": 213,
      "outputs": []
    },
    {
      "cell_type": "code",
      "metadata": {
        "colab": {
          "base_uri": "https://localhost:8080/"
        },
        "id": "bYxJfYWDaTT_",
        "outputId": "8fe2a435-5559-4f9a-c71e-f59af66e6568"
      },
      "source": [
        "from google.colab import drive\n",
        "drive.mount('/content/drive')"
      ],
      "execution_count": 214,
      "outputs": [
        {
          "output_type": "stream",
          "name": "stdout",
          "text": [
            "Drive already mounted at /content/drive; to attempt to forcibly remount, call drive.mount(\"/content/drive\", force_remount=True).\n"
          ]
        }
      ]
    },
    {
      "cell_type": "code",
      "metadata": {
        "colab": {
          "base_uri": "https://localhost:8080/"
        },
        "id": "FVvgghgXah0G",
        "outputId": "a946b082-df63-433f-dbf9-9464c69afe5d"
      },
      "source": [
        "df = pd.read_csv('drive/MyDrive/Colab Notebooks/Chicago_hotels.csv',sep=\";\",skipinitialspace=True)\n",
        "df.info()"
      ],
      "execution_count": 215,
      "outputs": [
        {
          "output_type": "stream",
          "name": "stdout",
          "text": [
            "<class 'pandas.core.frame.DataFrame'>\n",
            "RangeIndex: 120 entries, 0 to 119\n",
            "Data columns (total 6 columns):\n",
            " #   Column  Non-Null Count  Dtype \n",
            "---  ------  --------------  ----- \n",
            " 0   date1   120 non-null    object\n",
            " 1   date2   120 non-null    int64 \n",
            " 2   x1      112 non-null    object\n",
            " 3   x2      112 non-null    object\n",
            " 4   x3      112 non-null    object\n",
            " 5   x4      112 non-null    object\n",
            "dtypes: int64(1), object(5)\n",
            "memory usage: 5.8+ KB\n"
          ]
        }
      ]
    },
    {
      "cell_type": "code",
      "metadata": {
        "colab": {
          "base_uri": "https://localhost:8080/",
          "height": 419
        },
        "id": "dpMpGDMia8Y3",
        "outputId": "2a3775eb-6aa8-4c66-dab4-324fe208691e"
      },
      "source": [
        "df"
      ],
      "execution_count": 216,
      "outputs": [
        {
          "output_type": "execute_result",
          "data": {
            "text/html": [
              "<div>\n",
              "<style scoped>\n",
              "    .dataframe tbody tr th:only-of-type {\n",
              "        vertical-align: middle;\n",
              "    }\n",
              "\n",
              "    .dataframe tbody tr th {\n",
              "        vertical-align: top;\n",
              "    }\n",
              "\n",
              "    .dataframe thead th {\n",
              "        text-align: right;\n",
              "    }\n",
              "</style>\n",
              "<table border=\"1\" class=\"dataframe\">\n",
              "  <thead>\n",
              "    <tr style=\"text-align: right;\">\n",
              "      <th></th>\n",
              "      <th>date1</th>\n",
              "      <th>date2</th>\n",
              "      <th>x1</th>\n",
              "      <th>x2</th>\n",
              "      <th>x3</th>\n",
              "      <th>x4</th>\n",
              "    </tr>\n",
              "  </thead>\n",
              "  <tbody>\n",
              "    <tr>\n",
              "      <th>0</th>\n",
              "      <td>January</td>\n",
              "      <td>1994</td>\n",
              "      <td>44,3</td>\n",
              "      <td>104,04</td>\n",
              "      <td>51,9</td>\n",
              "      <td>72,15</td>\n",
              "    </tr>\n",
              "    <tr>\n",
              "      <th>1</th>\n",
              "      <td>February</td>\n",
              "      <td>1994</td>\n",
              "      <td>54,7</td>\n",
              "      <td>102,74</td>\n",
              "      <td>60,1</td>\n",
              "      <td>73,47</td>\n",
              "    </tr>\n",
              "    <tr>\n",
              "      <th>2</th>\n",
              "      <td>March</td>\n",
              "      <td>1994</td>\n",
              "      <td>61,9</td>\n",
              "      <td>105,23</td>\n",
              "      <td>65</td>\n",
              "      <td>74,91</td>\n",
              "    </tr>\n",
              "    <tr>\n",
              "      <th>3</th>\n",
              "      <td>April</td>\n",
              "      <td>1994</td>\n",
              "      <td>69,1</td>\n",
              "      <td>113,63</td>\n",
              "      <td>69,8</td>\n",
              "      <td>79,06</td>\n",
              "    </tr>\n",
              "    <tr>\n",
              "      <th>4</th>\n",
              "      <td>May</td>\n",
              "      <td>1994</td>\n",
              "      <td>70,8</td>\n",
              "      <td>120,77</td>\n",
              "      <td>72,4</td>\n",
              "      <td>82,07</td>\n",
              "    </tr>\n",
              "    <tr>\n",
              "      <th>...</th>\n",
              "      <td>...</td>\n",
              "      <td>...</td>\n",
              "      <td>...</td>\n",
              "      <td>...</td>\n",
              "      <td>...</td>\n",
              "      <td>...</td>\n",
              "    </tr>\n",
              "    <tr>\n",
              "      <th>115</th>\n",
              "      <td>August</td>\n",
              "      <td>2003</td>\n",
              "      <td>NaN</td>\n",
              "      <td>NaN</td>\n",
              "      <td>NaN</td>\n",
              "      <td>NaN</td>\n",
              "    </tr>\n",
              "    <tr>\n",
              "      <th>116</th>\n",
              "      <td>September</td>\n",
              "      <td>2003</td>\n",
              "      <td>NaN</td>\n",
              "      <td>NaN</td>\n",
              "      <td>NaN</td>\n",
              "      <td>NaN</td>\n",
              "    </tr>\n",
              "    <tr>\n",
              "      <th>117</th>\n",
              "      <td>October</td>\n",
              "      <td>2003</td>\n",
              "      <td>NaN</td>\n",
              "      <td>NaN</td>\n",
              "      <td>NaN</td>\n",
              "      <td>NaN</td>\n",
              "    </tr>\n",
              "    <tr>\n",
              "      <th>118</th>\n",
              "      <td>November</td>\n",
              "      <td>2003</td>\n",
              "      <td>NaN</td>\n",
              "      <td>NaN</td>\n",
              "      <td>NaN</td>\n",
              "      <td>NaN</td>\n",
              "    </tr>\n",
              "    <tr>\n",
              "      <th>119</th>\n",
              "      <td>December</td>\n",
              "      <td>2003</td>\n",
              "      <td>NaN</td>\n",
              "      <td>NaN</td>\n",
              "      <td>NaN</td>\n",
              "      <td>NaN</td>\n",
              "    </tr>\n",
              "  </tbody>\n",
              "</table>\n",
              "<p>120 rows × 6 columns</p>\n",
              "</div>"
            ],
            "text/plain": [
              "         date1  date2    x1      x2    x3     x4\n",
              "0      January   1994  44,3  104,04  51,9  72,15\n",
              "1     February   1994  54,7  102,74  60,1  73,47\n",
              "2        March   1994  61,9  105,23    65  74,91\n",
              "3        April   1994  69,1  113,63  69,8  79,06\n",
              "4          May   1994  70,8  120,77  72,4  82,07\n",
              "..         ...    ...   ...     ...   ...    ...\n",
              "115     August   2003   NaN     NaN   NaN    NaN\n",
              "116  September   2003   NaN     NaN   NaN    NaN\n",
              "117    October   2003   NaN     NaN   NaN    NaN\n",
              "118   November   2003   NaN     NaN   NaN    NaN\n",
              "119   December   2003   NaN     NaN   NaN    NaN\n",
              "\n",
              "[120 rows x 6 columns]"
            ]
          },
          "metadata": {},
          "execution_count": 216
        }
      ]
    },
    {
      "cell_type": "code",
      "metadata": {
        "colab": {
          "base_uri": "https://localhost:8080/",
          "height": 538
        },
        "id": "0mQmXp6DbJrw",
        "outputId": "b9b971be-e8dd-4ff6-fbd7-ff83de500ab0"
      },
      "source": [
        "rows_in_df = 120\n",
        "date_list = []\n",
        "df['x2']=df['x2'].astype(str)\n",
        "for i in range(0,120):\n",
        "    df['x2'][i] = df['x2'][i].replace(',','.');\n",
        "for i in range(1, rows_in_df + 1):\n",
        "  date_list.append(i)\n",
        "df['month'] = date_list\n",
        "df['x2']=df['x2'].astype(np.float)\n",
        "df"
      ],
      "execution_count": 217,
      "outputs": [
        {
          "output_type": "stream",
          "name": "stderr",
          "text": [
            "/usr/local/lib/python3.7/dist-packages/ipykernel_launcher.py:5: SettingWithCopyWarning:\n",
            "\n",
            "\n",
            "A value is trying to be set on a copy of a slice from a DataFrame\n",
            "\n",
            "See the caveats in the documentation: https://pandas.pydata.org/pandas-docs/stable/user_guide/indexing.html#returning-a-view-versus-a-copy\n",
            "\n"
          ]
        },
        {
          "output_type": "execute_result",
          "data": {
            "text/html": [
              "<div>\n",
              "<style scoped>\n",
              "    .dataframe tbody tr th:only-of-type {\n",
              "        vertical-align: middle;\n",
              "    }\n",
              "\n",
              "    .dataframe tbody tr th {\n",
              "        vertical-align: top;\n",
              "    }\n",
              "\n",
              "    .dataframe thead th {\n",
              "        text-align: right;\n",
              "    }\n",
              "</style>\n",
              "<table border=\"1\" class=\"dataframe\">\n",
              "  <thead>\n",
              "    <tr style=\"text-align: right;\">\n",
              "      <th></th>\n",
              "      <th>date1</th>\n",
              "      <th>date2</th>\n",
              "      <th>x1</th>\n",
              "      <th>x2</th>\n",
              "      <th>x3</th>\n",
              "      <th>x4</th>\n",
              "      <th>month</th>\n",
              "    </tr>\n",
              "  </thead>\n",
              "  <tbody>\n",
              "    <tr>\n",
              "      <th>0</th>\n",
              "      <td>January</td>\n",
              "      <td>1994</td>\n",
              "      <td>44,3</td>\n",
              "      <td>104.04</td>\n",
              "      <td>51,9</td>\n",
              "      <td>72,15</td>\n",
              "      <td>1</td>\n",
              "    </tr>\n",
              "    <tr>\n",
              "      <th>1</th>\n",
              "      <td>February</td>\n",
              "      <td>1994</td>\n",
              "      <td>54,7</td>\n",
              "      <td>102.74</td>\n",
              "      <td>60,1</td>\n",
              "      <td>73,47</td>\n",
              "      <td>2</td>\n",
              "    </tr>\n",
              "    <tr>\n",
              "      <th>2</th>\n",
              "      <td>March</td>\n",
              "      <td>1994</td>\n",
              "      <td>61,9</td>\n",
              "      <td>105.23</td>\n",
              "      <td>65</td>\n",
              "      <td>74,91</td>\n",
              "      <td>3</td>\n",
              "    </tr>\n",
              "    <tr>\n",
              "      <th>3</th>\n",
              "      <td>April</td>\n",
              "      <td>1994</td>\n",
              "      <td>69,1</td>\n",
              "      <td>113.63</td>\n",
              "      <td>69,8</td>\n",
              "      <td>79,06</td>\n",
              "      <td>4</td>\n",
              "    </tr>\n",
              "    <tr>\n",
              "      <th>4</th>\n",
              "      <td>May</td>\n",
              "      <td>1994</td>\n",
              "      <td>70,8</td>\n",
              "      <td>120.77</td>\n",
              "      <td>72,4</td>\n",
              "      <td>82,07</td>\n",
              "      <td>5</td>\n",
              "    </tr>\n",
              "    <tr>\n",
              "      <th>...</th>\n",
              "      <td>...</td>\n",
              "      <td>...</td>\n",
              "      <td>...</td>\n",
              "      <td>...</td>\n",
              "      <td>...</td>\n",
              "      <td>...</td>\n",
              "      <td>...</td>\n",
              "    </tr>\n",
              "    <tr>\n",
              "      <th>115</th>\n",
              "      <td>August</td>\n",
              "      <td>2003</td>\n",
              "      <td>NaN</td>\n",
              "      <td>NaN</td>\n",
              "      <td>NaN</td>\n",
              "      <td>NaN</td>\n",
              "      <td>116</td>\n",
              "    </tr>\n",
              "    <tr>\n",
              "      <th>116</th>\n",
              "      <td>September</td>\n",
              "      <td>2003</td>\n",
              "      <td>NaN</td>\n",
              "      <td>NaN</td>\n",
              "      <td>NaN</td>\n",
              "      <td>NaN</td>\n",
              "      <td>117</td>\n",
              "    </tr>\n",
              "    <tr>\n",
              "      <th>117</th>\n",
              "      <td>October</td>\n",
              "      <td>2003</td>\n",
              "      <td>NaN</td>\n",
              "      <td>NaN</td>\n",
              "      <td>NaN</td>\n",
              "      <td>NaN</td>\n",
              "      <td>118</td>\n",
              "    </tr>\n",
              "    <tr>\n",
              "      <th>118</th>\n",
              "      <td>November</td>\n",
              "      <td>2003</td>\n",
              "      <td>NaN</td>\n",
              "      <td>NaN</td>\n",
              "      <td>NaN</td>\n",
              "      <td>NaN</td>\n",
              "      <td>119</td>\n",
              "    </tr>\n",
              "    <tr>\n",
              "      <th>119</th>\n",
              "      <td>December</td>\n",
              "      <td>2003</td>\n",
              "      <td>NaN</td>\n",
              "      <td>NaN</td>\n",
              "      <td>NaN</td>\n",
              "      <td>NaN</td>\n",
              "      <td>120</td>\n",
              "    </tr>\n",
              "  </tbody>\n",
              "</table>\n",
              "<p>120 rows × 7 columns</p>\n",
              "</div>"
            ],
            "text/plain": [
              "         date1  date2    x1      x2    x3     x4  month\n",
              "0      January   1994  44,3  104.04  51,9  72,15      1\n",
              "1     February   1994  54,7  102.74  60,1  73,47      2\n",
              "2        March   1994  61,9  105.23    65  74,91      3\n",
              "3        April   1994  69,1  113.63  69,8  79,06      4\n",
              "4          May   1994  70,8  120.77  72,4  82,07      5\n",
              "..         ...    ...   ...     ...   ...    ...    ...\n",
              "115     August   2003   NaN     NaN   NaN    NaN    116\n",
              "116  September   2003   NaN     NaN   NaN    NaN    117\n",
              "117    October   2003   NaN     NaN   NaN    NaN    118\n",
              "118   November   2003   NaN     NaN   NaN    NaN    119\n",
              "119   December   2003   NaN     NaN   NaN    NaN    120\n",
              "\n",
              "[120 rows x 7 columns]"
            ]
          },
          "metadata": {},
          "execution_count": 217
        }
      ]
    },
    {
      "cell_type": "code",
      "metadata": {
        "colab": {
          "base_uri": "https://localhost:8080/",
          "height": 279
        },
        "id": "Pcc2NrPDpNu-",
        "outputId": "3541cdc0-438e-43d8-b0fd-056441a7d02b"
      },
      "source": [
        "plt.scatter(df['month'],df['x2'], alpha=0.75)\n",
        "\n",
        "plt.xlabel('month')\n",
        "plt.ylabel('x2')\n",
        "plt.show()"
      ],
      "execution_count": 218,
      "outputs": [
        {
          "output_type": "display_data",
          "data": {
            "image/png": "[encoded data removed]",
            "text/plain": [
              "<Figure size 432x288 with 1 Axes>"
            ]
          },
          "metadata": {
            "needs_background": "light"
          }
        }
      ]
    },
    {
      "cell_type": "code",
      "metadata": {
        "colab": {
          "base_uri": "https://localhost:8080/",
          "height": 279
        },
        "id": "dJ2nOU9Lpf9H",
        "outputId": "fd734e20-d6aa-4991-e1b1-8143265add77"
      },
      "source": [
        "x = df['month'].astype(np.float)\n",
        "y = df['x2'].astype(np.float)\n",
        "plt.scatter(x,y)\n",
        "idx = np.isfinite(x) & np.isfinite(y)\n",
        "z = np.polyfit(x[idx], y[idx], 1)\n",
        "p = np.poly1d(z)\n",
        "plt.plot(x,p(x),\"r--\")\n",
        "plt.xlabel('month')\n",
        "plt.ylabel('x2')\n",
        "plt.show()"
      ],
      "execution_count": 225,
      "outputs": [
        {
          "output_type": "display_data",
          "data": {
            "image/png": "[encoded data removed]",
            "text/plain": [
              "<Figure size 432x288 with 1 Axes>"
            ]
          },
          "metadata": {
            "needs_background": "light"
          }
        }
      ]
    },
    {
      "cell_type": "code",
      "metadata": {
        "colab": {
          "base_uri": "https://localhost:8080/"
        },
        "id": "ji3-d2WtzLUQ",
        "outputId": "385f98f6-6b61-4ac2-a0de-e220287831d3"
      },
      "source": [
        "from sklearn.linear_model import LinearRegression\n",
        "lr = LinearRegression()\n",
        "y = df.iloc[:-8,6:7].values\n",
        "X = df.iloc[:-8,3:4].values\n",
        "\n",
        "lr.fit(X, y)"
      ],
      "execution_count": 274,
      "outputs": [
        {
          "output_type": "execute_result",
          "data": {
            "text/plain": [
              "LinearRegression(copy_X=True, fit_intercept=True, n_jobs=None, normalize=False)"
            ]
          },
          "metadata": {},
          "execution_count": 274
        }
      ]
    },
    {
      "cell_type": "code",
      "metadata": {
        "colab": {
          "base_uri": "https://localhost:8080/",
          "height": 279
        },
        "id": "sq2Xm7R41NlT",
        "outputId": "10cd1639-11fc-4351-b8a3-93773c22f8e5"
      },
      "source": [
        "plt.scatter(X[1:36], y[1:36]);\n",
        "\n",
        "plt.xlabel('month')\n",
        "plt.ylabel('elec')\n",
        "plt.show()"
      ],
      "execution_count": 275,
      "outputs": [
        {
          "output_type": "display_data",
          "data": {
            "image/png": "[encoded data removed]",
            "text/plain": [
              "<Figure size 432x288 with 1 Axes>"
            ]
          },
          "metadata": {
            "needs_background": "light"
          }
        }
      ]
    },
    {
      "cell_type": "code",
      "metadata": {
        "colab": {
          "base_uri": "https://localhost:8080/",
          "height": 279
        },
        "id": "WjWJh7cP1RiK",
        "outputId": "b2d1f67b-d300-42f2-b00c-907ad3c667bf"
      },
      "source": [
        "y_lr = lr.predict(X)\n",
        "\n",
        "plt.scatter(X, y);\n",
        "plt.plot (X, y_lr, 'r');\n",
        "\n",
        "plt.xlabel('month')\n",
        "plt.ylabel('elec')\n",
        "plt.show()"
      ],
      "execution_count": 276,
      "outputs": [
        {
          "output_type": "display_data",
          "data": {
            "image/png": "[encoded data removed]",
            "text/plain": [
              "<Figure size 432x288 with 1 Axes>"
            ]
          },
          "metadata": {
            "needs_background": "light"
          }
        }
      ]
    },
    {
      "cell_type": "code",
      "metadata": {
        "id": "jGfsyIk31Vc6"
      },
      "source": [
        "date_list = []\n",
        "for i in range(112, 120):\n",
        "  date_list.append(i)\n",
        "z = np.concatenate((X, np.array(date_list).reshape(-1,1)), axis=0)"
      ],
      "execution_count": 277,
      "outputs": []
    },
    {
      "cell_type": "code",
      "metadata": {
        "colab": {
          "base_uri": "https://localhost:8080/",
          "height": 279
        },
        "id": "xCFSB1QV1eui",
        "outputId": "52f111da-522c-4485-a185-cf52400bb5f0"
      },
      "source": [
        "y_lr = lr.predict(z)\n",
        "\n",
        "plt.scatter(X, y);\n",
        "plt.plot (z, y_lr, 'r');\n",
        "\n",
        "plt.xlabel('month')\n",
        "plt.ylabel('elec')\n",
        "\n",
        "plt.show()"
      ],
      "execution_count": 278,
      "outputs": [
        {
          "output_type": "display_data",
          "data": {
            "image/png": "[encoded data removed]",
            "text/plain": [
              "<Figure size 432x288 with 1 Axes>"
            ]
          },
          "metadata": {
            "needs_background": "light"
          }
        }
      ]
    }
  ]
}